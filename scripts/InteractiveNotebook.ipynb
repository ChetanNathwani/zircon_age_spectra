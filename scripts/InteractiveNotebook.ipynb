{
 "cells": [
  {
   "cell_type": "code",
   "execution_count": 1,
   "id": "e2f53cd2-5fee-428b-a487-cbf61a678427",
   "metadata": {},
   "outputs": [],
   "source": [
    "import numpy as np\n",
    "from scipy import stats\n",
    "import matplotlib.pyplot as plt\n",
    "import pandas as pd\n",
    "import glob as glob\n",
    "import os as os\n",
    "import ot\n",
    "from scipy.stats import skew\n",
    "import seaborn as sb\n",
    "import geochron as geochron\n",
    "from scipy.stats import ks_2samp\n",
    "import math\n",
    "from mpl_toolkits.axes_grid1.inset_locator import inset_axes\n",
    "from matplotlib import colors\n",
    "from matplotlib import cm\n",
    "from scipy.optimize import curve_fit\n",
    "from sklearn.decomposition import PCA\n",
    "import matplotlib.patheffects as pe\n",
    "import warnings\n",
    "np.random.seed(0) # Set seed\n",
    "pd.options.mode.chained_assignment = None  # default='warn'"
   ]
  },
  {
   "cell_type": "code",
   "execution_count": 2,
   "id": "4e9bf4e5-2bee-4933-829c-3212d916ecc2",
   "metadata": {},
   "outputs": [],
   "source": [
    "def calc_flatness(ages, gradient_cut_off = 0.3, young_index = 2):\n",
    "    \n",
    "    # ages is an array of the unnormalised age distribution\n",
    "    # threshold is the gradient of an ECDF below which inheritance is marked\n",
    "    # f_threshold is the maximum relative age below the threshold which is deemed acceptable for an age distribution\n",
    "    # young_index is the index from which look at the gradient of the ECDF (to avoid younger outliers)   \n",
    "    x = np.sort((ages - np.min(ages)) / (np.max(ages) - np.min(ages))) \n",
    "    y = np.linspace(0, 1, len(x), endpoint=False)\n",
    "    dx = np.gradient(x)\n",
    "    dy = np.gradient(y)\n",
    "    gradient_ecdf = dy/dx\n",
    "    gradient_ecdf = gradient_ecdf[young_index:] # Exclude the gradient of the youngest part of the curve\n",
    "    flatness = np.sum(np.diff(x[young_index:][np.argwhere(gradient_ecdf<gradient_cut_off)].flatten()))\n",
    "    \n",
    "    return flatness\n",
    "\n",
    "def filter_older_ages(age_dist, unc, gradient_cut_off = 0.3, young_index = 2, tflatmax = 0.25):\n",
    "    while calc_flatness(age_dist, gradient_cut_off = gradient_cut_off, young_index = young_index) >= tflatmax:\n",
    "        age_dist = age_dist[:-1]\n",
    "        unc = unc[:-1]\n",
    "    \n",
    "    return(age_dist,unc)\n",
    "\n",
    "def plot_kde(ages, uncertainty=None, normalize = False):\n",
    "    if normalize is True:\n",
    "        ages = (ages - np.min(ages)) / (np.max(ages) - np.min(ages))\n",
    "    if uncertainty is None:\n",
    "        kde = stats.gaussian_kde(ages)\n",
    "    else:\n",
    "        weights = (1/uncertainty**2)/np.sum(1/uncertainty**2)\n",
    "        kde = stats.gaussian_kde(ages, weights = weights)\n",
    "    bw = kde.covariance_factor()*np.std(ages) # extract bw\n",
    "    # eval_points = np.linspace(np.min(ages)-0.05, np.max(ages)+bw)\n",
    "    eval_points = np.linspace(np.min(ages), np.max(ages))\n",
    "    y_sp = kde.pdf(eval_points)\n",
    "    return(eval_points, y_sp)\n",
    "\n",
    "def normalize_age(group):\n",
    "    min_age = group.min()\n",
    "    max_age = group.max()\n",
    "    return (group - min_age) / (max_age - min_age)\n",
    "\n",
    "def ecdf(ages, uncertainties=None):\n",
    "    \n",
    "    # Normalize the data between 0 and 1\n",
    "    data_min = min(ages)\n",
    "    data_max = max(ages)\n",
    "    normalized_data = (ages - data_min) / (data_max - data_min)\n",
    "\n",
    "    # Sort the data and weights accordingly\n",
    "    sorted_indices = np.argsort(normalized_data)\n",
    "    sorted_data = np.array(normalized_data)[sorted_indices]\n",
    "    \n",
    "    if uncertainties is None:\n",
    "        weights = np.ones(len(ages))\n",
    "    else:\n",
    "        weights = (1/uncertainties**2)/np.sum(1/uncertainties**2)\n",
    "        weights = np.array(weights)[sorted_indices]\n",
    "    \n",
    "    # Compute the weighted ECDF\n",
    "    weighted_cumsum = np.cumsum(weights)\n",
    "    ecdf_y = weighted_cumsum / weighted_cumsum[-1]\n",
    "    \n",
    "    return(sorted_data, ecdf_y)\n",
    "\n",
    "def check_data(ages, unc):\n",
    "    if len(ages) < 10:\n",
    "        warnings.warn(\"Distributions with low number of dates may not provide useful results\")\n",
    "    delta_T = np.max(ages) - np.min(ages)\n",
    "    avg_sigma = np.mean(unc)\n",
    "    if delta_T/avg_sigma < 10:\n",
    "        warnings.warn(\"Distributions with low ΔT/σ may not provide useful results\")\n",
    "    if np.mean(ages) > 120:\n",
    "        warnings.warn(\"Age distributions greater than 120 Ma may not provide useful results, check for Pb loss\")\n",
    "\n",
    "    \n",
    "        \n",
    "def calc_W_PCA(ages, unc):\n",
    "    check_data(ages, unc)\n",
    "    data = pd.read_csv('/Users/cnathwani/Desktop/Python_Projects/zircon_age_spectra/data/zircon_tims_comp_filtered.csv')\n",
    "    localities = [data.groupby('Locality').get_group(x) for x in data.groupby('Locality').groups]\n",
    "\n",
    "    all_samples = []\n",
    "\n",
    "    mapper = pd.Series(data.Locality.values,index=data.Unit).to_dict()\n",
    "    mapper2 = pd.Series(data.Type.values,index=data.Unit).to_dict()\n",
    "\n",
    "    ws = []\n",
    "    dic = {}\n",
    "    count = 0\n",
    "    for n,locality in enumerate(localities):\n",
    "        name = locality['Unit'].unique()\n",
    "        units = [locality.groupby('Unit').get_group(x) for x in locality.groupby('Unit').groups]\n",
    "        for unit in units:\n",
    "            all_samples.append(name)\n",
    "            # s, p = stats.skewtest(unit['age68'])\n",
    "            sample_name = unit['Unit'].iloc[0]\n",
    "            unit = unit.drop(['Unit'], axis = 1)\n",
    "            dic[sample_name] = unit\n",
    "            count = count + 1\n",
    "\n",
    "\n",
    "    values = dic.values()\n",
    "    keys = list(dic.keys())\n",
    "\n",
    "\n",
    "    for df in values:\n",
    "        for i in np.arange(0,len(values)):\n",
    "            df2 = list(values)[i]\n",
    "            # Calculate Wasserstein metric\n",
    "            w2 = geochron.calc_w2(df['age68'],df2['age68'],x_err = df['2s_68'], y_err = df2['2s_68'], normalize = True)\n",
    "            ws.append(w2)\n",
    "\n",
    "\n",
    "    ws = np.array(ws).reshape(len(values), len(values))\n",
    "\n",
    "\n",
    "    PCA_ws = PCA(n_components = 2)\n",
    "\n",
    "    names = [*map(mapper.get, keys)]\n",
    "    types = [*map(mapper2.get, keys)]\n",
    "\n",
    "    types = pd.Series(types, name = 'Type')\n",
    "    names = pd.Series(names, name = 'Locality')\n",
    "\n",
    "    PC_scores = pd.DataFrame(PCA_ws.fit_transform(ws), columns = ['PC1','PC2'])\n",
    "    PC_scores['Type'] = types\n",
    "    PC_scores['Locality'] = names\n",
    "\n",
    "    pca_types = [PC_scores.groupby('Type').get_group(x) for x in PC_scores.groupby('Type').groups]\n",
    "\n",
    "\n",
    "    w2_user = []\n",
    "    for i in np.arange(0,len(values)):\n",
    "        df2 = list(values)[i]\n",
    "        w2 = geochron.calc_w2(ages,df2['age68'],x_err = unc, y_err = df2['2s_68'], normalize = True)\n",
    "        w2_user.append(w2)\n",
    "    pc_user = PCA_ws.transform(X = np.array(w2_user).reshape(1, -1)).flatten()\n",
    "    return(pc_user)\n"
   ]
  },
  {
   "cell_type": "markdown",
   "id": "22e27980-249a-4b48-88b1-2a91c8c53859",
   "metadata": {},
   "source": [
    "## 1. Insert your data here"
   ]
  },
  {
   "cell_type": "code",
   "execution_count": 3,
   "id": "26258c6b-962d-423d-81a7-c073617ef1b6",
   "metadata": {},
   "outputs": [],
   "source": [
    "# Insert ages here\n",
    "ages = [0.151, 0.284, 0.293, 0.195, 0.237, 0.21 , 0.367, 0.546, 0.941,\n",
    "       0.194, 0.422, 0.219, 0.29 , 0.242, 0.319, 0.269, 0.267, 0.138,\n",
    "       0.217, 0.327, 0.206, 0.263, 0.359, 0.303, 0.449, 0.138, 0.365,\n",
    "       0.261, 0.142]\n",
    "\n",
    "# Insert uncertainties here 2s\n",
    "unc = [0.006, 0.005, 0.005, 0.007, 0.006, 0.005, 0.004, 0.006, 0.005,\n",
    "       0.005, 0.005, 0.006, 0.005, 0.006, 0.005, 0.005, 0.005, 0.007,\n",
    "       0.006, 0.005, 0.007, 0.006, 0.01 , 0.005, 0.015, 0.01 , 0.008,\n",
    "       0.007, 0.006]\n",
    "\n",
    "# ages = [315.24, 314.29, 333.46, 328.50, 333.95, 332.43, 334.20]\n",
    "# unc = [0.65,16.0,0.86,1.35,6.48,1.15,0.35]\n"
   ]
  },
  {
   "cell_type": "markdown",
   "id": "5aeba50e-3e61-4b97-8e0f-7864da29f6bc",
   "metadata": {},
   "source": [
    "## 2. Filter the dataset"
   ]
  },
  {
   "cell_type": "code",
   "execution_count": 4,
   "id": "447cb293-7b4b-45aa-a4a1-53e04ca61f4d",
   "metadata": {},
   "outputs": [
    {
     "name": "stderr",
     "output_type": "stream",
     "text": [
      "/Users/cnathwani/Desktop/Python_Projects/zircon_age_spectra/scripts/geochron.py:107: RuntimeWarning: divide by zero encountered in true_divide\n",
      "  gradient_ecdf = dy/dx\n"
     ]
    },
    {
     "name": "stdout",
     "output_type": "stream",
     "text": [
      "Filtered ages: [0.449 0.546 0.941]\n"
     ]
    },
    {
     "data": {
      "image/png": "[encoded data removed]",
      "text/plain": [
       "<Figure size 900x300 with 3 Axes>"
      ]
     },
     "metadata": {},
     "output_type": "display_data"
    }
   ],
   "source": [
    "ages = np.array(ages)\n",
    "ind = ages.argsort()\n",
    "ages = ages[ind]\n",
    "unc = np.array(unc)[ind]\n",
    "\n",
    "ages_fil, unc_fil = geochron.filter_older_ages(age_dist=ages,unc=unc, weighted = False)\n",
    "\n",
    "print('Filtered ages:', str(np.setdiff1d(ages, ages_fil)))\n",
    "\n",
    "\n",
    "\n",
    "fig, axs = plt.subplots(1,3, figsize = (9,3))\n",
    "\n",
    "axs[0].hlines(y = range(len(ages)), xmin =  ages-unc, \n",
    "                     xmax = ages+unc, linewidth = 2, color = 'gray')\n",
    "\n",
    "axs[0].hlines(y = range(len(ages_fil)), xmin =  ages_fil-unc_fil, \n",
    "                     xmax = ages_fil+unc_fil, linewidth = 2, color = 'darkred')\n",
    "\n",
    "\n",
    "# unfiltered\n",
    "ages_kde = geochron.plot_kde(ages,unc, normalize = True)\n",
    "axs[1].plot(ages_kde[0],ages_kde[1], color = 'gray', label = 'Unfiltered')\n",
    "axs[2].step(ecdf(ages)[0], ecdf(ages)[1], where = 'post', label = 'Unfiltered', c = 'gray')\n",
    "\n",
    "# filtered\n",
    "\n",
    "ages_kde = geochron.plot_kde(ages_fil, unc_fil, normalize = True)\n",
    "axs[1].plot(ages_kde[0],ages_kde[1], color = 'darkred', label = 'Filtered')\n",
    "axs[2].step(geochron.ecdf(ages_fil)[0], geochron.ecdf(ages_fil)[1], where = 'post', label = 'Filtered', c = 'darkred')\n",
    "\n",
    "axs[0].set_xlabel('Age (Ma)', fontsize = 9)\n",
    "\n",
    "axs[0].set_yticks([])\n",
    "axs[0].set_xlim(np.min(ages)-0.02,np.max(ages)+0.02)\n",
    "\n",
    "\n",
    "axs[1].set_ylabel('KDE ($t_{rel}$)', fontsize = 9)\n",
    "axs[1].set_xlabel('$t_{rel}$', fontsize = 9)\n",
    "\n",
    "axs[2].set_ylabel('ECDF ($t_{rel}$)', fontsize = 9)\n",
    "axs[2].set_xlabel('$t_{rel}$', fontsize = 9)\n",
    "\n",
    "axs[1].set_xlim([0,1])\n",
    "axs[1].set_ylim([0,3.0])\n",
    "axs[2].set_xlim([0,1])\n",
    "axs[2].set_ylim([0,1])\n",
    "\n",
    "axs[1].xaxis.set_tick_params(labelsize = 9)\n",
    "axs[2].xaxis.set_tick_params(labelsize = 9)\n",
    "axs[0].yaxis.set_tick_params(labelsize = 9)\n",
    "axs[1].yaxis.set_tick_params(labelsize = 9)\n",
    "axs[2].yaxis.set_tick_params(labelsize = 9)\n",
    "\n",
    "axs[0].set_title('Ranked Age', fontsize = 10)\n",
    "axs[1].set_title('Kernel Density', fontsize = 10)\n",
    "axs[2].set_title('ECDF', fontsize = 10)\n",
    "\n",
    "axs[2].legend()\n",
    "\n",
    "plt.tight_layout()\n",
    "plt.show()"
   ]
  },
  {
   "cell_type": "code",
   "execution_count": 5,
   "id": "2dd5a533-39aa-4167-9a16-947daa26cdd0",
   "metadata": {},
   "outputs": [
    {
     "data": {
      "text/plain": [
       "array([0.138, 0.138, 0.142, 0.151, 0.194, 0.195, 0.206, 0.21 , 0.217,\n",
       "       0.219, 0.237, 0.242, 0.261, 0.263, 0.267, 0.269, 0.284, 0.29 ,\n",
       "       0.293, 0.303, 0.319, 0.327, 0.359, 0.365, 0.367, 0.422])"
      ]
     },
     "execution_count": 5,
     "metadata": {},
     "output_type": "execute_result"
    }
   ],
   "source": [
    "ages_fil"
   ]
  },
  {
   "cell_type": "code",
   "execution_count": 6,
   "id": "d8ea3110-3347-4766-a210-07d8885d05ed",
   "metadata": {},
   "outputs": [
    {
     "data": {
      "text/plain": [
       "array([0.01 , 0.007, 0.006, 0.006, 0.005, 0.007, 0.007, 0.005, 0.006,\n",
       "       0.006, 0.006, 0.006, 0.007, 0.006, 0.005, 0.005, 0.005, 0.005,\n",
       "       0.005, 0.005, 0.005, 0.005, 0.01 , 0.008, 0.004, 0.005])"
      ]
     },
     "execution_count": 6,
     "metadata": {},
     "output_type": "execute_result"
    }
   ],
   "source": [
    "unc_fil"
   ]
  },
  {
   "cell_type": "markdown",
   "id": "5225df86-ee05-49a1-9e67-cf5868fcf283",
   "metadata": {},
   "source": [
    "## 3. See where your data plots relative to other age distributions"
   ]
  },
  {
   "cell_type": "code",
   "execution_count": 7,
   "id": "078781aa-57f0-4637-a481-265c722f3417",
   "metadata": {},
   "outputs": [
    {
     "data": {
      "image/png": "[encoded data removed]",
      "text/plain": [
       "<Figure size 450x400 with 4 Axes>"
      ]
     },
     "metadata": {},
     "output_type": "display_data"
    }
   ],
   "source": [
    "fig, axs = plt.subplots(1,1, figsize = (4.5,4))\n",
    "\n",
    "colors = [(10/255, 147/255, 150/255),(174/255, 32/255, 18/255),(238/255, 155/255, 0/255)]\n",
    "shapes = ['s','o','^']\n",
    "\n",
    "pc1, pc2, types = geochron.generate_pca_scores()\n",
    "\n",
    "sb.scatterplot(x=pc1,y=pc2,hue = types, style = types,\n",
    "              edgecolor = 'black', palette = colors, markers = shapes, ax = axs)\n",
    "\n",
    "axs.set_xlabel('PC1')\n",
    "axs.set_ylabel('PC2')\n",
    "\n",
    "numValues = 1000\n",
    "maxValue = 1\n",
    "skewness = -10   #Negative values are left skewed, positive values are right skewed.\n",
    "\n",
    "size_x = 0.27\n",
    "size_y = 0.185\n",
    "\n",
    "example_skews = [-100,0,100]\n",
    "\n",
    "for skew in example_skews:\n",
    "    x = stats.skewnorm.rvs(a = skew,loc=maxValue, size=numValues)  #Skewnorm function\n",
    "    x = x - min(x)      #Shift the set so the minimum value is equal to zero.\n",
    "    x = x / max(x)      #Standadize all the vlues between 0 and 1. \n",
    "    x = x * maxValue         #Multiply the standardized values by the maximum value.\n",
    "    \n",
    "    with warnings.catch_warnings():\n",
    "        warnings.simplefilter(\"ignore\")\n",
    "        pc1, pc2 = geochron.calc_W_PCA(x, np.ones(len(x)))\n",
    "    \n",
    "    ax = inset_axes(axs, \"100%\", \"100%\", \n",
    "                    bbox_to_anchor=(pc1-(size_x/2), pc2-(size_y/2), size_x, size_y),\n",
    "                    bbox_transform=axs.transData, loc=\"center\")\n",
    "    \n",
    "    sb.kdeplot(x, ax = ax)\n",
    "    ax.get_xaxis().set_visible(False)\n",
    "    ax.get_yaxis().set_visible(False)\n",
    "    ax.set_xlim([0,1])\n",
    "\n",
    "x = np.linspace(0,1,10000)\n",
    "\n",
    "ax.get_xaxis().set_visible(False)\n",
    "ax.get_yaxis().set_visible(False)\n",
    "\n",
    "pc1, pc2 = geochron.calc_W_PCA(ages_fil, unc_fil)\n",
    "\n",
    "axs.scatter(pc1, pc2, s = 200, color = 'yellow', marker = '*', edgecolor = 'black', label = 'Your data')\n",
    "\n",
    "legend = axs.legend(loc = 4, frameon = False)\n",
    "plt.rcParams['svg.fonttype'] = 'none'\n",
    "plt.show()"
   ]
  },
  {
   "cell_type": "code",
   "execution_count": 16,
   "id": "7e19fd85-dbf0-4269-a980-c74ad7884740",
   "metadata": {},
   "outputs": [],
   "source": []
  },
  {
   "cell_type": "code",
   "execution_count": 2,
   "id": "dc089eba-750d-4629-b1b2-425656e4ee65",
   "metadata": {},
   "outputs": [
    {
     "data": {
      "text/plain": [
       "(0    -0.465769\n",
       " 1    -0.391456\n",
       " 2    -0.667256\n",
       " 3    -0.464677\n",
       " 4    -0.534635\n",
       "         ...   \n",
       " 79   -0.502114\n",
       " 80   -0.515172\n",
       " 81   -0.647220\n",
       " 82   -0.366053\n",
       " 83   -0.425625\n",
       " Name: PC1, Length: 84, dtype: float64,\n",
       " 0    -0.007005\n",
       " 1    -0.328376\n",
       " 2    -0.124333\n",
       " 3    -0.058656\n",
       " 4    -0.286713\n",
       "         ...   \n",
       " 79   -0.147986\n",
       " 80   -0.313683\n",
       " 81    0.107973\n",
       " 82   -0.115072\n",
       " 83    1.105376\n",
       " Name: PC2, Length: 84, dtype: float64,\n",
       " 0     Plutonic\n",
       " 1     Volcanic\n",
       " 2     Porphyry\n",
       " 3     Porphyry\n",
       " 4     Porphyry\n",
       "         ...   \n",
       " 79    Volcanic\n",
       " 80    Volcanic\n",
       " 81    Volcanic\n",
       " 82    Volcanic\n",
       " 83    Volcanic\n",
       " Name: Type, Length: 84, dtype: object)"
      ]
     },
     "execution_count": 2,
     "metadata": {},
     "output_type": "execute_result"
    }
   ],
   "source": []
  },
  {
   "cell_type": "code",
   "execution_count": 2,
   "id": "0d5b8cbc-187d-45b1-b05a-d272103fcc3a",
   "metadata": {},
   "outputs": [
    {
     "data": {
      "text/plain": [
       "['PCA',\n",
       " 'TIMS_func',\n",
       " 'TIMS_pcov',\n",
       " 'TIMS_popt',\n",
       " '__builtins__',\n",
       " '__cached__',\n",
       " '__doc__',\n",
       " '__file__',\n",
       " '__loader__',\n",
       " '__name__',\n",
       " '__package__',\n",
       " '__spec__',\n",
       " 'calc_W_PCA',\n",
       " 'calc_delT',\n",
       " 'calc_flatness',\n",
       " 'calc_w2',\n",
       " 'curve_fit',\n",
       " 'ecdf',\n",
       " 'filter_older_ages',\n",
       " 'generate_pca_scores',\n",
       " 'laser',\n",
       " 'laser_func',\n",
       " 'laser_func_unc',\n",
       " 'laser_pcov',\n",
       " 'laser_popt',\n",
       " 'normalize_age',\n",
       " 'np',\n",
       " 'ot',\n",
       " 'pd',\n",
       " 'plot_kde',\n",
       " 'sava',\n",
       " 'stats',\n",
       " 'tims_func_unc']"
      ]
     },
     "execution_count": 2,
     "metadata": {},
     "output_type": "execute_result"
    }
   ],
   "source": [
    "dir(geochron)"
   ]
  },
  {
   "cell_type": "code",
   "execution_count": null,
   "id": "b8ffc946-7221-4a30-8309-516c41c33c01",
   "metadata": {},
   "outputs": [],
   "source": []
  }
 ],
 "metadata": {
  "kernelspec": {
   "display_name": "Python 3 (ipykernel)",
   "language": "python",
   "name": "python3"
  },
  "language_info": {
   "codemirror_mode": {
    "name": "ipython",
    "version": 3
   },
   "file_extension": ".py",
   "mimetype": "text/x-python",
   "name": "python",
   "nbconvert_exporter": "python",
   "pygments_lexer": "ipython3",
   "version": "3.9.13"
  }
 },
 "nbformat": 4,
 "nbformat_minor": 5
}
